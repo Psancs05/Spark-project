{
  "cells": [
    {
      "cell_type": "markdown",
      "metadata": {
        "id": "view-in-github",
        "colab_type": "text"
      },
      "source": [
        "<a href=\"https://colab.research.google.com/github/Psancs05/dataset/blob/main/SparkApplication.ipynb\" target=\"_parent\"><img src=\"https://colab.research.google.com/assets/colab-badge.svg\" alt=\"Open In Colab\"/></a>"
      ]
    },
    {
      "cell_type": "markdown",
      "metadata": {
        "id": "14cGnUeV_Ft7"
      },
      "source": [
        "#Installing and configuring Spark\n"
      ]
    },
    {
      "cell_type": "code",
      "execution_count": null,
      "metadata": {
        "id": "u6O3YefA-3OL"
      },
      "outputs": [],
      "source": [
        "!apt-get update -qq"
      ]
    },
    {
      "cell_type": "code",
      "execution_count": null,
      "metadata": {
        "id": "Ig5zAOov-3p-"
      },
      "outputs": [],
      "source": [
        "!apt-get install openjdk-8-jdk-headless -qq > /dev/null"
      ]
    },
    {
      "cell_type": "code",
      "execution_count": null,
      "metadata": {
        "id": "CyOvzd27-5sD"
      },
      "outputs": [],
      "source": [
        "!wget -q https://dlcdn.apache.org/spark/spark-3.2.0/spark-3.2.0-bin-hadoop3.2.tgz"
      ]
    },
    {
      "cell_type": "code",
      "execution_count": null,
      "metadata": {
        "id": "Uwnud5pf-69i"
      },
      "outputs": [],
      "source": [
        "!tar xf /content/spark-3.2.0-bin-hadoop3.2.tgz"
      ]
    },
    {
      "cell_type": "code",
      "execution_count": null,
      "metadata": {
        "id": "D12v-mB1-8UN"
      },
      "outputs": [],
      "source": [
        "!pip install -q findspark"
      ]
    },
    {
      "cell_type": "code",
      "execution_count": null,
      "metadata": {
        "id": "DwBQy8fq-9oU"
      },
      "outputs": [],
      "source": [
        "import os\n",
        "os.environ[\"JAVA_HOME\"] = \"/usr/lib/jvm/java-8-openjdk-amd64\"\n",
        "os.environ[\"SPARK_HOME\"] = \"/content/spark-3.2.0-bin-hadoop3.2\""
      ]
    },
    {
      "cell_type": "code",
      "execution_count": null,
      "metadata": {
        "id": "Rnd45x9o-_Qg"
      },
      "outputs": [],
      "source": [
        "import findspark\n",
        "findspark.init()"
      ]
    },
    {
      "cell_type": "code",
      "execution_count": null,
      "metadata": {
        "id": "95R48Oo4_Alf"
      },
      "outputs": [],
      "source": [
        "from pyspark.sql import SparkSession\n",
        "spark = SparkSession.builder\\\n",
        "        .master(\"local\")\\\n",
        "        .appName(\"Colab\")\\\n",
        "        .config('spark.ui.port', '4050')\\\n",
        "        .getOrCreate()"
      ]
    },
    {
      "cell_type": "code",
      "execution_count": null,
      "metadata": {
        "id": "MnP3qjLc_BxF"
      },
      "outputs": [],
      "source": [
        "spark"
      ]
    },
    {
      "cell_type": "markdown",
      "metadata": {
        "id": "qyZPQQj2_MUK"
      },
      "source": [
        "##Random Forest Regressor Application"
      ]
    },
    {
      "cell_type": "markdown",
      "source": [
        "pySpark and ML Dependencies"
      ],
      "metadata": {
        "id": "VgcIG6v4A_Zo"
      }
    },
    {
      "cell_type": "code",
      "execution_count": null,
      "metadata": {
        "id": "atJMaht0_DJn"
      },
      "outputs": [],
      "source": [
        "import numpy as np\n",
        "\n",
        "from pyspark.sql.functions import UserDefinedFunction\n",
        "from pyspark.sql.types import *\n",
        "\n",
        "from pyspark.ml import Pipeline\n",
        "from pyspark.ml.classification import RandomForestClassifier\n",
        "from pyspark.ml.evaluation import MulticlassClassificationEvaluator\n",
        "from pyspark.ml.feature import IndexToString, StringIndexer, VectorIndexer, HashingTF, Tokenizer\n",
        "from pyspark.ml.feature import VectorAssembler"
      ]
    },
    {
      "cell_type": "code",
      "execution_count": null,
      "metadata": {
        "id": "AgUavMtC_TF7"
      },
      "outputs": [],
      "source": [
        "!wget -q https://raw.githubusercontent.com/Psancs05/dataset/main/Iris.csv\n"
      ]
    },
    {
      "cell_type": "markdown",
      "source": [
        "Understanding the data"
      ],
      "metadata": {
        "id": "FGHyOaxNBD_Q"
      }
    },
    {
      "cell_type": "code",
      "execution_count": null,
      "metadata": {
        "id": "ahFMQPTg_U8d"
      },
      "outputs": [],
      "source": [
        "df_raw = spark.read.csv(\"Iris.csv\", header=True, inferSchema=True)\n",
        "df_raw.show(5)\n",
        "df_raw.count()"
      ]
    },
    {
      "cell_type": "code",
      "execution_count": null,
      "metadata": {
        "id": "_d3g3OIo_b5A"
      },
      "outputs": [],
      "source": [
        "df_raw = df_raw.select(\"Species\",\"SepalLengthCm\",\"SepalWidthCm\",\"PetalLengthCm\",\"PetalWidthCm\")\n",
        "df = df_raw.withColumnRenamed(\"Species\",\"index\")\n",
        "df.show(5)"
      ]
    },
    {
      "cell_type": "code",
      "source": [
        "featureCols = ['SepalLengthCm', 'SepalWidthCm', 'PetalLengthCm', 'PetalWidthCm']\n",
        "assembler = VectorAssembler(inputCols=featureCols, outputCol=\"features\")\n",
        "df2 = assembler.transform(df)\n",
        "df2.show(5)"
      ],
      "metadata": {
        "id": "EBfroOMP2PaV"
      },
      "execution_count": null,
      "outputs": []
    },
    {
      "cell_type": "code",
      "source": [
        "print('Unique species')\n",
        "df2.select('index').distinct().show()"
      ],
      "metadata": {
        "id": "ZiVPVnnkHofc"
      },
      "execution_count": null,
      "outputs": []
    },
    {
      "cell_type": "markdown",
      "source": [
        "Split data into train and test"
      ],
      "metadata": {
        "id": "fxSUjCK4A3zw"
      }
    },
    {
      "cell_type": "code",
      "source": [
        "print(\"Total DF: \", df2.count())\n",
        "\n",
        "train, test = df2.randomSplit(weights=[0.8,0.2], seed=200)\n",
        "\n",
        "print(\"Ejemplos usados para entrenar: \", train.count())\n",
        "print(\"Ejemplos usados para test: \", test.count())\n",
        "\n",
        "train = train.na.fill(\"\")\n",
        "test = test.na.fill(\"\")"
      ],
      "metadata": {
        "id": "yyri7qkf3FHw"
      },
      "execution_count": null,
      "outputs": []
    },
    {
      "cell_type": "markdown",
      "source": [
        "Data preproccess and model"
      ],
      "metadata": {
        "id": "xRSFqAmcBJRQ"
      }
    },
    {
      "cell_type": "code",
      "execution_count": null,
      "metadata": {
        "id": "vvjjt0gs_tx9"
      },
      "outputs": [],
      "source": [
        "labelIndexer = StringIndexer(inputCol=\"index\", outputCol=\"indexedLabel\").fit(df2)\n",
        "rf = RandomForestClassifier(labelCol=\"indexedLabel\", featuresCol=\"features\", numTrees=10)\n",
        "\n",
        "pipeline = Pipeline(stages=[labelIndexer, rf])"
      ]
    },
    {
      "cell_type": "code",
      "source": [
        "model = pipeline.fit(train)"
      ],
      "metadata": {
        "id": "Ut3e7Mt5RzJz"
      },
      "execution_count": null,
      "outputs": []
    },
    {
      "cell_type": "code",
      "source": [
        "test.show(20)"
      ],
      "metadata": {
        "id": "XSsG5W0tu2Kr"
      },
      "execution_count": null,
      "outputs": []
    },
    {
      "cell_type": "markdown",
      "source": [
        "Predictions"
      ],
      "metadata": {
        "id": "zF7Ipu5kBKSR"
      }
    },
    {
      "cell_type": "code",
      "execution_count": null,
      "metadata": {
        "id": "d5K9NpjRAaTQ"
      },
      "outputs": [],
      "source": [
        "predictionsDf = model.transform(test)\n",
        "predictionsDf.select(\"indexedLabel\", \"prediction\").describe().show()"
      ]
    },
    {
      "cell_type": "code",
      "source": [
        "predictionsDf.show(10)"
      ],
      "metadata": {
        "id": "g1hgtjsI-GRZ"
      },
      "execution_count": null,
      "outputs": []
    },
    {
      "cell_type": "code",
      "source": [
        "print('Label-value relationship')\n",
        "predictionsDf.select('index', 'indexedLabel').distinct().show()"
      ],
      "metadata": {
        "id": "eVq35Xt0IWPG"
      },
      "execution_count": null,
      "outputs": []
    },
    {
      "cell_type": "markdown",
      "source": [
        "Model evaluation"
      ],
      "metadata": {
        "id": "APkdilzVBQPv"
      }
    },
    {
      "cell_type": "code",
      "source": [
        "evaluator = MulticlassClassificationEvaluator(labelCol=\"indexedLabel\", predictionCol=\"prediction\")\n",
        "accuracy = evaluator.evaluate(predictionsDf)\n",
        "print(\"Accuracy = %s\" % (accuracy))\n",
        "print(\"Test Error = %s\" % (1.0 - accuracy))"
      ],
      "metadata": {
        "id": "zALcb8HT-pgI"
      },
      "execution_count": null,
      "outputs": []
    },
    {
      "cell_type": "code",
      "execution_count": null,
      "metadata": {
        "id": "8JkDuGwvBBWY"
      },
      "outputs": [],
      "source": [
        "predictionsDf.createOrReplaceTempView(\"Predictions\")\n",
        "true_setosa = spark.sql(\"SELECT count(*) AS cnt FROM Predictions WHERE prediction = 0 AND indexedLabel = 0\")\n",
        "true_versicolor = spark.sql(\"SELECT count(*) AS cnt FROM Predictions WHERE prediction = 1 AND indexedLabel = 1\")\n",
        "true_virginica = spark.sql(\"SELECT count(*) AS cnt FROM Predictions WHERE prediction = 2 AND indexedLabel = 2\")\n",
        "false_setosa = spark.sql(\"SELECT count(*) AS cnt FROM Predictions WHERE prediction = 0 AND (indexedLabel = 1 OR indexedLabel = 2)\")\n",
        "false_versicolor = spark.sql(\"SELECT count(*) AS cnt FROM Predictions WHERE prediction = 1 AND (indexedLabel = 0 OR indexedLabel = 2)\")\n",
        "false_virginica = spark.sql(\"SELECT count(*) AS cnt FROM Predictions WHERE prediction = 2 AND (indexedLabel = 1 OR indexedLabel = 0)\")"
      ]
    },
    {
      "cell_type": "code",
      "execution_count": null,
      "metadata": {
        "id": "d1Aqs7FnBEPu"
      },
      "outputs": [],
      "source": [
        "%matplotlib inline\n",
        "import matplotlib.pyplot as plt\n",
        "\n",
        "labels = ['true setosa', 'true versicolor', 'true virginica', 'false setosa', 'false versicolor', 'false virginica']\n",
        "sizes = [np.array(true_setosa.select('cnt').collect()), np.array(true_versicolor.select('cnt').collect()),\\\n",
        "         np.array(true_virginica.select('cnt').collect()), np.array(false_setosa.select('cnt').collect()), \\\n",
        "         np.array(false_versicolor.select('cnt').collect()), np.array(false_virginica.select('cnt').collect())]\n",
        "colors = ['blue', 'red', 'green', 'yellow', 'grey', 'pink']\n",
        "plt.pie(sizes, labels=labels, autopct='%1.1f%%', colors=colors)\n",
        "plt.axis('equal')"
      ]
    }
  ],
  "metadata": {
    "colab": {
      "name": "SparkApplication.ipynb",
      "provenance": [],
      "authorship_tag": "ABX9TyOlzD18eDaktgqYy1oFt9YW",
      "include_colab_link": true
    },
    "kernelspec": {
      "display_name": "Python 3",
      "name": "python3"
    },
    "language_info": {
      "name": "python"
    }
  },
  "nbformat": 4,
  "nbformat_minor": 0
}